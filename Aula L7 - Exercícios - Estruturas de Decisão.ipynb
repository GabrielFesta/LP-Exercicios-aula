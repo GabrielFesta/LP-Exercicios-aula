{
  "cells": [
    {
      "cell_type": "markdown",
      "metadata": {
        "id": "oNAE5ZPfjt3g"
      },
      "source": [
        "#**TTI103 - Lógica de Programação**\n",
        "\n",
        "#**Aula L7 - Estruturas de Decisão**"
      ]
    },
    {
      "cell_type": "markdown",
      "metadata": {
        "id": "yHnnxSvFrggG"
      },
      "source": [
        "#**Exercício 01**\n",
        "\n",
        "Escreva um programa Python que recebe um ano de nosso calendário gregoriano $[1]$ no formato $YYYY$ e decida se o ano é bissexto ou não.\n",
        "\n",
        "*ALGORITMO:* Para determinar se um ano é bissexto, execute estas etapas:\n",
        "\n",
        "(1) Se o ano for uniformemente divisível por 4, vá para a etapa 2. Caso contrário, vá para a etapa 5.\n",
        "\n",
        "(2) Se o ano for uniformemente divisível por 100, vá para a etapa 3. Caso contrário, vá para a etapa 4.\n",
        "\n",
        "(3) Se o ano for uniformemente divisível por 400, vá para a etapa 4. Caso contrário, vá para a etapa 5.\n",
        "\n",
        "(4) O ano é bissexto (tem 366 dias).\n",
        "\n",
        "(5) O ano não é um ano bissexto (tem 365 dias).\n",
        "\n",
        "$[1]$ Calendário criado em 1582 pelo Papa Gregório XIII (1502 – 1585) — daí o nome “gregoriano”."
      ]
    },
    {
      "cell_type": "code",
      "execution_count": 9,
      "metadata": {
        "id": "B2F61JDO50FU"
      },
      "outputs": [
        {
          "name": "stdout",
          "output_type": "stream",
          "text": [
            "O ano não é bissexto\n"
          ]
        }
      ],
      "source": [
        "# Exercício 01\n",
        "\n",
        "ano = 2023\n",
        "\n",
        "if ano % 4 ==0:\n",
        "    if ano % 100 == 0: \n",
        "        if ano % 400 == 0:\n",
        "            print(\"O ano é bissexto\")\n",
        "        else:\n",
        "            print(\"O ano não é bissexto\")        \n",
        "    else:\n",
        "        print(\"O ano é bissexto\")\n",
        "else:\n",
        "    print(\"O ano não é bissexto\")\n"
      ]
    },
    {
      "cell_type": "markdown",
      "metadata": {
        "id": "SXv1755C53CU"
      },
      "source": [
        "#**Exercício 02**\n",
        "\n",
        "Escreva um programa Python que determine o estágio de vida de uma pessoa, a partir de sua idade:\n",
        "\n",
        "* Se a pessoa tiver menos de 2 anos, imprima uma mensagem informando que a pessoa é um bebê.\n",
        "* Se a pessoa tiver pelo menos 2 anos, mas menos de 4, imprima uma mensagem informando que a\n",
        "pessoa é uma criança de colo.\n",
        "* Se a pessoa tiver pelo menos 4 anos, mas menos de 13, imprima uma mensagem informando que\n",
        "a pessoa é uma criança.\n",
        "* Se a pessoa tiver pelo menos 13 anos, mas menos de 20, imprima uma mensagem dizendo que\n",
        "a pessoa é um adolescente.\n",
        "* Se a pessoa tiver pelo menos 20 anos, mas menos de 65, imprima uma mensagem que\n",
        "dizendo que a pessoa é adulta.\n",
        "* Se a pessoa tiver 65 anos ou mais, imprima uma mensagem informando que a pessoa é idosa."
      ]
    },
    {
      "cell_type": "code",
      "execution_count": 14,
      "metadata": {
        "id": "KSFlFxMY9NhO"
      },
      "outputs": [
        {
          "name": "stdout",
          "output_type": "stream",
          "text": [
            "adulto\n"
          ]
        }
      ],
      "source": [
        "# Exercício 02\n",
        "pessoa = 65\n",
        "\n",
        "if pessoa < 2:\n",
        "    print(\"é um bebe\")\n",
        "elif pessoa >=2 and pessoa <= 4:\n",
        "    print(\"criança de colo\")\n",
        "elif pessoa >= 4 and pessoa <= 13:\n",
        "    print(\"criança\")\n",
        "elif pessoa >= 13 and pessoa <= 20:\n",
        "    print(\"adolescente\")\n",
        "elif pessoa >=20 and pessoa <=65:\n",
        "    print(\"adulto\")\n",
        "elif pessoa >= 65:\n",
        "    print(\"Idoso\")"
      ]
    },
    {
      "cell_type": "markdown",
      "metadata": {
        "id": "aBnaN_mb9Pst"
      },
      "source": [
        "#**Exercício 03**\n",
        "\n",
        "Escreva um programa Python que recebe um único carácter como entrada e decide se esse carácter é uma letra maiúscula, uma letra minúscula, um algarismo decimal ou um carácter especial.\n",
        "\n",
        "Na codificação ASCII:\n",
        "* As letras maiúsculas de 'A' a 'Z' são codificadas pelos decimais 65 a 90;\n",
        "* As letras minúsculas de 'a' a 'z' são codificadas pelos decimais 97 a 122;\n",
        "* Os algarismos decimais são codificados pelos decimais 48 a 57;\n",
        "* Os decimais de 0 a 255, com exceção daqueles mencionados acima, codificam caracteres especiais.\n",
        "\n",
        "*IMPORTANTE:* Para checar a codificação ASCII da variável `caracter`que contém um único carácter, use o comando ` ord`. Veja um exemplo:\n",
        "\n",
        "`caracter = A`\n",
        "\n",
        "`decimal = ord(caracter)`\n",
        "\n",
        "`print(decimal)`\n",
        "\n",
        "`65`"
      ]
    },
    {
      "cell_type": "code",
      "execution_count": 32,
      "metadata": {
        "id": "FtvHlRliAzi2"
      },
      "outputs": [
        {
          "name": "stdout",
          "output_type": "stream",
          "text": [
            "especial\n"
          ]
        }
      ],
      "source": [
        "# Exercício 03\n",
        "valor = 0\n",
        "\n",
        "if valor >= 65 and valor<=90:\n",
        "    print(\"maiuscula\")\n",
        "elif valor >= 97 and valor <= 122:\n",
        "    print(\"minuscula\")\n",
        "elif valor >= 48 and valor <= 57:\n",
        "    print(\"decimais\")\n",
        "elif valor >= 0 and valor <=255:\n",
        "    print(\"especial\")"
      ]
    },
    {
      "cell_type": "markdown",
      "metadata": {
        "id": "_ZgQVyrNA2AG"
      },
      "source": [
        "#**Exercício 04**\n",
        "\n",
        "Um vendedor fornece três tipos de brinquedos:\n",
        "\n",
        "(1) brinquedos que usam baterias;\n",
        "\n",
        "(2) brinquedos que usam pilhas;\n",
        "\n",
        "(3) brinquedos com baterias recarregáveis.\n",
        "\n",
        "O vendedor dá um desconto de 10% em pedidos de brinquedos à bateria, se o pedido for superior a $R\\$\\,1000,00$.\n",
        "\n",
        "Em pedidos superiores a $R\\$\\,100,00$ para brinquedos à pilha, é concedido um desconto de 5%.\n",
        "\n",
        "Um desconto de 10% é concedido em pedidos de brinquedos com baterias recarregáveis, caso o valor seja superior a $R\\$\\,500,00$.\n",
        "\n",
        "Suponha que os códigos numéricos 1, 2 e 3 sejam usados para designar brinquedos à bateria, à pilha e à baterias recarregáveis, respectivamente. Escreva um programa Python que leia o código do produto e o valor do pedido. A seguir, calcule e imprima o valor líquido que o cliente deverá pagar após o desconto, se houver."
      ]
    },
    {
      "cell_type": "code",
      "execution_count": 1,
      "metadata": {
        "id": "ToW3uB9rDaev"
      },
      "outputs": [
        {
          "name": "stdout",
          "output_type": "stream",
          "text": [
            "você recebara 5% de 100 R$ desconto e o valor final vai ficar 95.0\n"
          ]
        }
      ],
      "source": [
        "# Exercício 04\n",
        "codigo= 2\n",
        "conta = 100\n",
        "\n",
        "if codigo == 1 and conta >= 1000:\n",
        "    print (f\"você recebara 10% de {conta} R$ desconto e o valor final vai ficar {conta * 0.9}\")\n",
        "elif codigo == 2 and conta >= 100:\n",
        "    print (f\"você recebara 5% de {conta} R$ desconto e o valor final vai ficar {conta *  .95}\")\n",
        "elif codigo == 3 and conta >= 500:\n",
        "    print (f\"você recebara 10% de {conta} R$ desconto e o valor final vai ficar {conta * .9}\")"
      ]
    },
    {
      "cell_type": "markdown",
      "metadata": {
        "id": "cnPtnkZADwi_"
      },
      "source": [
        "#**Exercício 05**\n",
        "\n",
        "\n",
        "A concessionária *Paschim Gujarat Vij Company Ltd.* calcula o valor da conta de eletricidade segundo o esquema abaixo:\n",
        "\n",
        "* 0-100 unidades consumidas: $\\$\\,0,50$ por unidade;\n",
        "* 101-200 unidades consumidas: $\\$\\,50$ mais $\\$\\,1$ por unidade acima de 100 unidades;\n",
        "* 201-300 unidades consumidas: $\\$\\,150$ mais $\\$\\,1,50$ por unidade acima de 200 unidades;\n",
        "* Mais de 300 unidades consumidas: $\\$\\,300$ mais $\\$\\,2$ por unidade acima de 300 unidades.\n",
        "\n",
        "Escreva um programa Python que leia o valor passado do medidor (penúltima medição, 30 dias atrás) e o valor atual (última medição, hoje) e, a partir dessas informações, calcule o número de unidades consumidas e o valor da conta de eletricidade do mês."
      ]
    },
    {
      "cell_type": "code",
      "execution_count": 40,
      "metadata": {
        "id": "dSNjB9Q0GTnY"
      },
      "outputs": [
        {
          "name": "stdout",
          "output_type": "stream",
          "text": [
            "300\n"
          ]
        }
      ],
      "source": [
        "# Exercício 05\n",
        "\n",
        "unidade = 350\n",
        "\n",
        "if unidade >= 0 and unidade <= 100:\n",
        "\n",
        "    consumo = .5 * unidade\n",
        "\n",
        "    print (f\"consumo desse mês {consumo} R$\")\n",
        "\n",
        "elif unidade >= 101 and unidade <= 200:\n",
        "    \n",
        "    consumo = (unidade - 100) * 1 + 50\n",
        "\n",
        "    print (f\"consumo desse mês {consumo} R$\")\n",
        "\n",
        "elif unidade >= 201 and unidade <=300:\n",
        "\n",
        "    consumo = (unidade - 150) * 1.5 + 150\n",
        "\n",
        "    print (f\"consumo desse mês {consumo} R$\")\n",
        "\n",
        "elif unidade >= 300:\n",
        "\n",
        "    consumo = (unidade - 300) * 2 + 200\n",
        "\n",
        "    print (f\"consumo desse mês {consumo} R$\")\n"
      ]
    }
  ],
  "metadata": {
    "colab": {
      "provenance": []
    },
    "kernelspec": {
      "display_name": "Python 3",
      "name": "python3"
    },
    "language_info": {
      "codemirror_mode": {
        "name": "ipython",
        "version": 3
      },
      "file_extension": ".py",
      "mimetype": "text/x-python",
      "name": "python",
      "nbconvert_exporter": "python",
      "pygments_lexer": "ipython3",
      "version": "3.11.8"
    }
  },
  "nbformat": 4,
  "nbformat_minor": 0
}
