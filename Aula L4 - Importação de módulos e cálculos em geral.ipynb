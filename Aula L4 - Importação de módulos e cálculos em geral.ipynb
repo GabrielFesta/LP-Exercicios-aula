{
  "cells": [
    {
      "cell_type": "markdown",
      "metadata": {
        "id": "YSAoi_Yl7YRt"
      },
      "source": [
        "#**TTI103 - Lógica de Programação**\n",
        "\n",
        "#**Aula L4 - Importação de módulos e cálculos em geral**"
      ]
    },
    {
      "cell_type": "markdown",
      "metadata": {
        "id": "PW_bRKycNYLG"
      },
      "source": [
        "# Importação de módulos\n",
        "\n",
        "**Problema:** Considere modelo matemático que determina a altura $y$ de uma bola lançada verticalmente para cima, com velocidade inicial $v_0$:\n",
        "\n",
        "$$y=v_0t - \\frac{1}{2}gt^2,$$\n",
        "\n",
        "em que $g$ é a aceleração da gravidade (em $\\text{m/s}^2$) e $t$ é o tempo em segundos. Quanto tempo leva para que a bola atinja uma altura específica $y_c$$^{[1]}$?\n",
        "\n",
        "Bem, quando $y=y_c$, temos:\n",
        "\n",
        "$$y_c=v_0t - \\frac{1}{2}gt^2\\Rightarrow -\\frac{1}{2}gt^2 + v_0t - y_c=0$$\n",
        "\n",
        "As soluções para essa equação são:\n",
        "\n",
        "$$t_1=\\frac{-v_0+\\sqrt{v_0^2-2gy_c}}{-g}=\\frac{v_0-\\sqrt{v_0^2-2gy_c}}{g}$$\n",
        "\n",
        "$$t_2=\\frac{-v_0-\\sqrt{v_0^2-2gy_c}}{-g}=\\frac{v_0+\\sqrt{v_0^2-2gy_c}}{g}$$\n",
        "\n",
        "As duas soluções são fisicamente viáveis, uma vez que a bola atinge a altura $y_c$ no trajeto de subida ($t=t_1$) e também na descida ($t=t_2>t_1)$.\n",
        "\n",
        "Para a determinação de $t_1$ e $t_2$, precisamos calcular $\\sqrt{v_0^2-2gy_c}$, uma raiz quadrada. Poderíamos reescrever a expressão, afinal\n",
        "\n",
        "$$\\sqrt{v_0^2-2gy_c}=(v_0^2-2gy_c)^{\\frac{1}{2}}$$\n",
        "\n",
        "e então usar o operador de potência `**`. Mas, e quando precisarmos calcular outras funções tais como, seno, cosseno, logaritmo ou exponencial?\n",
        "\n",
        "Há uma biblioteca, ou *módulo*, no Python que realiza todas essas operações: o módulo `math`. Para usá-lo, basta empregar o comando `import`. Assim, poderemos acessar a função raíz quadrada com a instrução `math.sqrt()`.\n",
        "\n",
        "$[1]$ *IMPORTANTE:* Note que não podemos arbitrar qualquer escolha para $y_c$, uma vez que a bola atinge uma altura máxima\n",
        "\n",
        "$$y_{\\text{max}}=\\frac{v_0^2}{2g}-y_c\\geq 0,$$\n",
        "\n",
        "pois foi lançada verticalmente para cima. Consequentemente, é preciso que $0\\leq y_c\\leq v_0^2/2g$."
      ]
    },
    {
      "cell_type": "markdown",
      "metadata": {
        "id": "F9a73vUn2LSV"
      },
      "source": [
        "**Solução:** Admita que, em um lançamento vertical de uma bola, tenha-se $v_0=5\\text{ m/s}$. Quanto tempo leva para que a bola atinja uma altura $y_c=0,2\\text{ m}$?"
      ]
    },
    {
      "cell_type": "code",
      "execution_count": 16,
      "metadata": {
        "id": "ruLYXh-UNUd0"
      },
      "outputs": [
        {
          "name": "stdout",
          "output_type": "stream",
          "text": [
            "A bola demorou 0.0417 segundos para subir e 0.958 Segundos para descer\n"
          ]
        }
      ],
      "source": [
        "# Solução para o problema motivador\n",
        "import math\n",
        "\n",
        "t1 = 0\n",
        "t2 = 0\n",
        "v = 5\n",
        "g = 10\n",
        "y = .2\n",
        "\n",
        "t2 = (v +math.sqrt(v**2 - 2*g*y)) /g\n",
        "t1 = (v -math.sqrt(v**2 - 2*g*y)) /g\n",
        "\n",
        "print (f\"A bola demorou {t1:.3} segundos para subir e {t2:.3} Segundos para descer\")"
      ]
    },
    {
      "cell_type": "markdown",
      "metadata": {
        "id": "GO1nZ7L01NyT"
      },
      "source": [
        "## Duas formas de importar módulos\n",
        "\n",
        "Vimos que a maneira padrão de se importar um módulo, `math` por exemplo, é escrever\n",
        "\n",
        "`import math`\n",
        "\n",
        "e então acessar as funções individuais usando o nome do módulo como prefixo. Fizemos isso na solução do problema do lançamento vertical escrevendo\n",
        "\n",
        "`math.sqrt(v0**2 - 2*g*yc)`.\n",
        "\n",
        "A maioria das pessoas geralmente acha `math.sqrt(y)` menos agradável do que apenas `sqrt(y)`. Felizmente, existe uma sintaxe de importação alternativa que nos permite omitir o nome do módulo como um prefixo. Essa sintaxe alternativa tem a forma `from module import function`. Um exemplo específico é\n",
        "\n",
        "`from math import sqrt`.\n",
        "\n",
        "Agora podemos trabalhar diretamente com a função `sqrt`, sem o prefixo `math.`."
      ]
    },
    {
      "cell_type": "markdown",
      "metadata": {
        "id": "-409BNb53m8Q"
      },
      "source": [
        "##**Exercício 01**##\n",
        "\n",
        "Reescreva o código anterior usando a sintaxe de importação alternativa para a função `sqrt`. Formate a saída para que os tempos $t_1$ e $t_2$ sejam exibidos com precisão de duas casas decimais."
      ]
    },
    {
      "cell_type": "code",
      "execution_count": 20,
      "metadata": {
        "id": "x4g5AJmG4MYV"
      },
      "outputs": [
        {
          "name": "stdout",
          "output_type": "stream",
          "text": [
            "A bola demorou 0.0417 segundos para subir e 0.958 Segundos para descer\n"
          ]
        }
      ],
      "source": [
        "# Exercício 01\n",
        "from math import sqrt\n",
        "\n",
        "t1 = 0\n",
        "t2 = 0\n",
        "v = 5\n",
        "g = 10\n",
        "y = .2\n",
        "\n",
        "t2 = (v +sqrt(v**2 - 2*g*y)) /g\n",
        "t1 = (v -sqrt(v**2 - 2*g*y)) /g\n",
        "\n",
        "print (f\"A bola demorou {t1:.3} segundos para subir e {t2:.3} Segundos para descer\")\n",
        "\n",
        "\n",
        "\n",
        "\n",
        "\n",
        "\n"
      ]
    },
    {
      "cell_type": "markdown",
      "metadata": {
        "id": "J3Al_cDz4mu2"
      },
      "source": [
        "Podemos importar mais de uma função por vez. Por exemplo:\n",
        "\n",
        "`from math import sqrt, exp, log, sin`\n",
        "\n",
        "Também é possível escrever\n",
        "\n",
        "`from math import *`\n",
        "\n",
        "e importar todas as funções do módulo `math`. Isso inclui `sin`, `cos`, `tan`, `asin`, `acos`, `atan`, `sinh`, `cosh`, `tanh`, `exp`, `log` (base e), `log10` (base 10), `sqrt` e também as famosas constantes `e` e `pi`.  \n",
        "\n",
        "A importação de todas as funções de um módulo usando a sintaxe do asterisco (*) pode ser conveniente, mas resulta em uma grande quantidade extra de palavras reservadas no programa que acabam não sendo usadas. Como regra geral, é boa prática de programação importar apenas as funções que de fato serão empregadas o programa."
      ]
    },
    {
      "cell_type": "markdown",
      "metadata": {
        "id": "SCpwdfOG-oaF"
      },
      "source": [
        "##**Exercício 02**##\n",
        "\n",
        "Considere a definição da função seno hiperbólico:\n",
        "\n",
        "$$\\sinh(x)=\\frac{1}{2}(e^x-e^{-x})$$\n",
        "\n",
        "Podemos calcular o $\\sinh(x)$ de três formas:\n",
        "\n",
        "* por meio da função `math.sinh`;\n",
        "* avaliando o lado direito da definição usando a função `math.exp`;\n",
        "* avaliando o lado direito da definição usando expressões de potência em conjunto com a constante `math.e`.\n",
        "\n",
        "Elabore um programa que calcule $\\sinh(2\\pi)$ empregando as três formas propostas."
      ]
    },
    {
      "cell_type": "code",
      "execution_count": 60,
      "metadata": {
        "id": "8qpP8rWxAknx"
      },
      "outputs": [
        {
          "name": "stdout",
          "output_type": "stream",
          "text": [
            "6.283185307179586\n",
            "267.74489404101644\n",
            "267.7439603196505\n"
          ]
        }
      ],
      "source": [
        "# Exercício 02\n",
        "from math import pi,sinh,exp,e\n",
        "\n",
        "x = 2*pi\n",
        "\n",
        "print (x)\n",
        "\n",
        "resultado2 = (.5*(exp(x) - exp(-x)))\n",
        "\n",
        "print (resultado2)\n",
        "\n",
        "resultado3 = (.5*(e**x)-(e**(-x)))\n",
        "\n",
        "print (resultado3)\n",
        "\n",
        "\n",
        "\n"
      ]
    },
    {
      "cell_type": "markdown",
      "metadata": {
        "id": "uNQ2HOjjBu8k"
      },
      "source": [
        "**Observação:** Note que `valor1`e `valor2`são iguais, mas `valor3` é ligeiramente diferente dos demais. Por que?\n",
        "\n",
        "Nossos programas lidam com números reais que, em geral, necessitam de infinitas casas decimais para serem representados exatamente. O computador trunca a sequência de casas decimais, pois a capacidade de memória para armazenamento é finita. De fato, é quase um padrão registrar somente 17 dígitos de um número real na memória. A forma como esse truncamento ocorre foge ao escopo da nossa disciplina. Por ora, é importante notar que números reais são representados no computador de forma aproximada. Apenas uma pequena parcela dos reais é representada de forma exata; a grande maioria é uma (excelente) aproximação.\n",
        "\n",
        "Consequentemente, a maioria das operações aritméticas envolvem núemros aproximados, resultando em cálculos aproximados. Veja um exemplo simples. Sabemos que:\n",
        "\n",
        "$$\\frac{1}{49}\\cdot 49=1=\\frac{1}{51}\\cdot 51$$\n",
        "\n",
        "No entanto, se fizermos esse cálculo no Python, obtemos:"
      ]
    },
    {
      "cell_type": "code",
      "execution_count": 61,
      "metadata": {
        "id": "taXHYLWnBrFu"
      },
      "outputs": [
        {
          "name": "stdout",
          "output_type": "stream",
          "text": [
            "0.9999999999999999 1.0\n"
          ]
        }
      ],
      "source": [
        "print(1/49*49, 1/51*51)"
      ]
    },
    {
      "cell_type": "markdown",
      "metadata": {
        "id": "nXKSHsvBovGS"
      },
      "source": [
        "##**Exercício 03**##\n",
        "\n",
        "Escreva um programa Python em que o usuário define um comprimento dado em metros e então o programa calcula e exibe o comprimento correspondente medido em polegadas, pés, jardas e milhas.\n",
        "\n",
        "Sabe-se que:\n",
        "* uma polegada equivale a 2,54 cm;\n",
        "* um pé equivale a 12 polegadas;\n",
        "* uma jarda equiavel a 3 pés;\n",
        "* uma milha britânica equivale a 1760 jardas.\n",
        "\n",
        "Para verificação, um comprimento de 640 metros corresponde a 25196,85 polegadas, 2.099,74 pés, 699,91 jardas ou 0,3977 milhas."
      ]
    },
    {
      "cell_type": "code",
      "execution_count": 8,
      "metadata": {
        "id": "5Zo08Stxrt9p"
      },
      "outputs": [
        {
          "name": "stdout",
          "output_type": "stream",
          "text": [
            " 1 Metros equivale a: 254.0 polegadas, 3048.0 pés, 9144.0 jardas, 0.19247594050743658 milhas.\n"
          ]
        }
      ],
      "source": [
        "# Exercício 03\n",
        "\n",
        "metro = 1\n",
        "\n",
        "polegada = 2.54 * (metro * 100)\n",
        "pe = 12 * polegada\n",
        "jarda = 3 * pe\n",
        "milha = 1760 / jarda\n",
        "\n",
        "print (f\" {metro} Metros equivale a: {polegada} polegadas, {pe} pés, {jarda} jardas, {milha} milhas.\")"
      ]
    },
    {
      "cell_type": "markdown",
      "metadata": {
        "id": "edrXgdTfsFem"
      },
      "source": [
        "##**Exercício 04**##\n",
        "\n",
        "Seja $p$ a taxa anual de juros praticada por um determinado banco. Um montante inicial $A$ cresce ao valor\n",
        "\n",
        "$$A\\left(1+\\frac{p}{100}\\right)^n$$\n",
        "\n",
        "após $n$ anos. Escreva um prorama Python que peça ao usuário para digitar o valor inicial do investimento, a taxa de juros anual e o período de investimento e então calcule o valor disponível ao final do período."
      ]
    },
    {
      "cell_type": "code",
      "execution_count": 2,
      "metadata": {
        "id": "aM-I9JvWO-Hz"
      },
      "outputs": [
        {
          "ename": "ValueError",
          "evalue": "could not convert string to float: ''",
          "output_type": "error",
          "traceback": [
            "\u001b[1;31m---------------------------------------------------------------------------\u001b[0m",
            "\u001b[1;31mValueError\u001b[0m                                Traceback (most recent call last)",
            "Cell \u001b[1;32mIn[2], line 3\u001b[0m\n\u001b[0;32m      1\u001b[0m \u001b[38;5;66;03m# Exercício 04\u001b[39;00m\n\u001b[1;32m----> 3\u001b[0m anos \u001b[38;5;241m=\u001b[39m \u001b[38;5;28;43mfloat\u001b[39;49m\u001b[43m \u001b[49m\u001b[43m(\u001b[49m\u001b[38;5;28;43minput\u001b[39;49m\u001b[43m \u001b[49m\u001b[43m(\u001b[49m\u001b[38;5;124;43m\"\u001b[39;49m\u001b[38;5;124;43mQuanto tempo você quer investir esse dinheiro? \u001b[39;49m\u001b[38;5;124;43m\"\u001b[39;49m\u001b[43m)\u001b[49m\u001b[43m)\u001b[49m\n\u001b[0;32m      4\u001b[0m taxa \u001b[38;5;241m=\u001b[39m \u001b[38;5;28mfloat\u001b[39m (\u001b[38;5;28minput\u001b[39m (\u001b[38;5;124m\"\u001b[39m\u001b[38;5;124mColoque o taxa anual \u001b[39m\u001b[38;5;124m\"\u001b[39m))\n\u001b[0;32m      5\u001b[0m dinheiro \u001b[38;5;241m=\u001b[39m \u001b[38;5;28mfloat\u001b[39m (\u001b[38;5;28minput\u001b[39m (\u001b[38;5;124m\"\u001b[39m\u001b[38;5;124mColoque o seu salario \u001b[39m\u001b[38;5;124m\"\u001b[39m))\n",
            "\u001b[1;31mValueError\u001b[0m: could not convert string to float: ''"
          ]
        }
      ],
      "source": [
        "# Exercício 04\n",
        "\n",
        "anos = float (input (\"Quanto tempo você quer investir esse dinheiro? \"))\n",
        "taxa = float (input (\"Coloque o taxa anual: \"))\n",
        "dinheiro = float (input (\"Coloque o seu salario: \"))\n",
        "\n",
        "resultado = (dinheiro * (1 + (taxa/100))*anos)\n",
        "\n",
        "print (f\"Em {anos:.0f} anos e com {taxa:.0f}% da taxa você ganhara de investimento {resultado:.3f} Dinheiros\") \n"
      ]
    },
    {
      "cell_type": "markdown",
      "metadata": {
        "id": "JNmYd2TWtJEB"
      },
      "source": [
        "##**Exercício 05**##\n",
        "\n",
        "Execute os programas a seguir. Identifique e corrija os erros.\n",
        "\n",
        "**a)** Será que $\\text{sen}^2(x)+\\cos^2(x)=1$?"
      ]
    },
    {
      "cell_type": "code",
      "execution_count": null,
      "metadata": {
        "id": "PLyQ7RWfuG8L"
      },
      "outputs": [],
      "source": [
        "from math import sin, cos\n",
        "x = pi/4\n",
        "1_val = math.sin^2(x) + math.cos^2(x)\n",
        "print 1_VAL"
      ]
    },
    {
      "cell_type": "code",
      "execution_count": 30,
      "metadata": {
        "id": "jU8jm2hQ1_Jp"
      },
      "outputs": [
        {
          "name": "stdout",
          "output_type": "stream",
          "text": [
            "1.0000000000000002\n"
          ]
        }
      ],
      "source": [
        "# Programa corrigido (item a)\n",
        "\n",
        "from math import sin, cos, pi \n",
        "x = pi/4\n",
        "resultado = (sin(x)**2) + (cos(x)**2)\n",
        "print (resultado)\n"
      ]
    },
    {
      "cell_type": "markdown",
      "metadata": {
        "id": "1uHuaaI4uLrL"
      },
      "source": [
        "**b)** Calcular $s$ em metros quando $s=v_0t+\\frac{1}{2}at^2$, com $v_0=3\\text{ m/s}$, $t=1\\text{ s}$ e $a=2\\text{ m/s}^2$."
      ]
    },
    {
      "cell_type": "code",
      "execution_count": null,
      "metadata": {
        "id": "MPPAalg1utfY"
      },
      "outputs": [],
      "source": [
        "v0 = 3 m/s\n",
        "t = 1 s\n",
        "a = 2 m/s**2\n",
        "s = v0.t + 0,5.a.t**2\n",
        "print s"
      ]
    },
    {
      "cell_type": "code",
      "execution_count": 33,
      "metadata": {
        "id": "yROc0XTb2hzM"
      },
      "outputs": [
        {
          "name": "stdout",
          "output_type": "stream",
          "text": [
            "4.0\n"
          ]
        }
      ],
      "source": [
        "# Programa corrigido (item b)\n",
        "v = 3\n",
        "t = 1\n",
        "s = 2\n",
        "a = 2 \n",
        "\n",
        "s = v*t + 0.5*a*t**2\n",
        "\n",
        "print (s)"
      ]
    },
    {
      "cell_type": "markdown",
      "metadata": {
        "id": "VkvL6B3ewA7_"
      },
      "source": [
        "##**Exercício 06**##\n",
        "\n",
        "A função gaussiana conhecida como curva do sino, expressa por\n",
        "\n",
        "$$f(x)=\\frac{1}{\\sqrt{2\\pi}s}\\text{exp}\\left[-\\frac{1}{2}\\left(\\frac{x-m}{s}\\right)^2\\right],$$\n",
        "\n",
        "é uma das funções mais empregadas em ciência e tecnologia. Os parâmetros $m$ e $s$ designam a média e o desvio padrão da distribuição probabilística de uma determinada população.\n",
        "\n",
        "A variável $x$ indica o valor de uma propriedade $X$ dessa população. O valor $f(x)$ é empregado para determinar a probabilidade de que um indivíduo sorteado aleatoriamente tenha o valor da característica $X$ inferior ou igual a $x$.\n",
        "\n",
        "Escreva um programa Python que peça ao usuário a média e o desvio padrão da população e também o valor de $x$ para o qual se deseja determinar $f(x)$ e então calcule o valor $f(x)$."
      ]
    },
    {
      "cell_type": "code",
      "execution_count": 59,
      "metadata": {
        "id": "kyHkOqgWPRQg"
      },
      "outputs": [
        {
          "name": "stdout",
          "output_type": "stream",
          "text": [
            "4.608361576808835\n"
          ]
        }
      ],
      "source": [
        "# Exercício 06\n",
        "from math import exp,pi,sqrt\n",
        "\n",
        "m= 3\n",
        "s = 8\n",
        "\n",
        "y = -0.5 * ((x-m/s)**2)\n",
        "\n",
        "x = (sqrt(pi*s) * (exp(y)))\n",
        "\n",
        "print (x)"
      ]
    },
    {
      "cell_type": "markdown",
      "metadata": {
        "id": "l-POP02nPUKl"
      },
      "source": [
        "##**Exercício 07**##\n",
        "\n",
        "A força de arrasto que age em um objeto em movimento, devido à resistência do ar, é expressa por:\n",
        "\n",
        "$$F_d=\\frac{1}{2}C_D\\rho AV^2$$\n",
        "\n",
        "Na expressão anterior:\n",
        "\n",
        "* $\\rho$ é a densidade do ar;\n",
        "* $V$ é a velocidade do objeto;\n",
        "* $A$ é a área da seção transversal do objeto (ortogonal à direção da velocidade);\n",
        "* $C_D$ é o coeficiente de arrasto, que depende fortemente do formato do objeto e da rugosidade de sua superfície.\n",
        "\n",
        "A intensidade da força gravitacional que age em um objeto de massa $m$ é $F_g=mg$, em que $g=9,81\\text{ m/s}^2$.\n",
        "\n",
        "Podemos usar as fórmulas para o cálculo de $F_d$ e $F_g$ para estudar a importância da resistência do ar *versus* gravidade quando chutamos uma bola de futebol.\n",
        "\n",
        "A densidade do ar é $\\rho=1,2\\text{ kg/m}^3$. Sabemos que a área da seção transversal de uma esfera de raio $a$ é $A=\\pi a^2$. Para uma bola de futebol, $a=11\\text{ cm}$ e a massa é de $0,43\\text{ kg}$. O coeficiente de arrasto $C_D$ varia com a velocidade, mas um valor médio adequado é $0,4$.\n",
        "\n",
        "Escreva um programa Python que calcule as forças de arrasto e gravitacional que agem em uma bola de futebol. Exiba o valor dessas forças em Newton $[\\text{N}=\\text{kg}\\cdot\\text{m/s}^2]$, com precisão de uma casa decimal. Além disso, exiba também a razão entre as intensidades da força de arrasto e gravitacional. Defina $C_D$, $\\rho$, $A$, $V$, $m$, $g$, $F_d$ e $F_g$ como variáveis, inserindo comentários que registrem suas unidades.\n",
        "\n",
        "Teste seu programa em duas situações:\n",
        "* Chute potente, com $V=120\\text{ km/h}$;\n",
        "* Chute fraco, com $V=30\\text{ km/h}$.\n",
        "\n",
        "Atenção às unidades, pois as velocidades estão expressas em $\\text{km/h}$!!!"
      ]
    },
    {
      "cell_type": "code",
      "execution_count": 1,
      "metadata": {
        "id": "FUkeSCtMYYQC"
      },
      "outputs": [
        {
          "ename": "ValueError",
          "evalue": "could not convert string to float: 'coloque a velocidade da bola: '",
          "output_type": "error",
          "traceback": [
            "\u001b[1;31m---------------------------------------------------------------------------\u001b[0m",
            "\u001b[1;31mValueError\u001b[0m                                Traceback (most recent call last)",
            "Cell \u001b[1;32mIn[1], line 4\u001b[0m\n\u001b[0;32m      1\u001b[0m \u001b[38;5;66;03m# Exercício 07\u001b[39;00m\n\u001b[0;32m      2\u001b[0m \u001b[38;5;28;01mfrom\u001b[39;00m \u001b[38;5;21;01mmath\u001b[39;00m \u001b[38;5;28;01mimport\u001b[39;00m pi\n\u001b[1;32m----> 4\u001b[0m V \u001b[38;5;241m=\u001b[39m \u001b[38;5;28minput\u001b[39m(\u001b[38;5;28;43mfloat\u001b[39;49m\u001b[43m(\u001b[49m\u001b[38;5;124;43m\"\u001b[39;49m\u001b[38;5;124;43mcoloque a velocidade da bola: \u001b[39;49m\u001b[38;5;124;43m\"\u001b[39;49m\u001b[43m)\u001b[49m)\n\u001b[0;32m      5\u001b[0m fd \u001b[38;5;241m=\u001b[39m \u001b[38;5;241m9.81\u001b[39m \n\u001b[0;32m      6\u001b[0m cd \u001b[38;5;241m=\u001b[39m \u001b[38;5;241m.4\u001b[39m\n",
            "\u001b[1;31mValueError\u001b[0m: could not convert string to float: 'coloque a velocidade da bola: '"
          ]
        }
      ],
      "source": [
        "from math import pi\n",
        "\n",
        "v = float(input(\"coloque a velocidade da bola: \"))\n",
        "g = 9.81 \n",
        "cd = .4\n",
        "a = pi*11**2\n",
        "p = 1.2\n",
        "m = .43  \n",
        "\n",
        "fd = .5*cd*p*a*v**2\n",
        "fg = m * g\n",
        "\n",
        "print (f\"A Força de arrasto gravitacional é: {fd:.3f} e a razão é: {fg:.3f}.\")"
      ]
    }
  ],
  "metadata": {
    "colab": {
      "provenance": []
    },
    "kernelspec": {
      "display_name": "Python 3",
      "name": "python3"
    },
    "language_info": {
      "codemirror_mode": {
        "name": "ipython",
        "version": 3
      },
      "file_extension": ".py",
      "mimetype": "text/x-python",
      "name": "python",
      "nbconvert_exporter": "python",
      "pygments_lexer": "ipython3",
      "version": "3.11.6"
    }
  },
  "nbformat": 4,
  "nbformat_minor": 0
}
