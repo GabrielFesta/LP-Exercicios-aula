{
  "cells": [
    {
      "cell_type": "markdown",
      "metadata": {
        "id": "xsvGGMI2L4xJ"
      },
      "source": [
        "## Exercícios extras"
      ]
    },
    {
      "cell_type": "markdown",
      "metadata": {
        "id": "1dzeAG92MsqP"
      },
      "source": [
        "1. Escreva um programa que recebe um número. Verifique se o número se encontra entre 1 e 7. Se sim, exiba o valor do dia da semana correspondente."
      ]
    },
    {
      "cell_type": "code",
      "execution_count": 4,
      "metadata": {
        "id": "6HQ8XOYRL68w"
      },
      "outputs": [
        {
          "name": "stdout",
          "output_type": "stream",
          "text": [
            "none\n"
          ]
        }
      ],
      "source": [
        "numero = 9\n",
        "\n",
        "if numero == 1:\n",
        "    print (f\"{numero} Segunda\")\n",
        "\n",
        "elif numero == 2:\n",
        "    print(f\"{numero} Terça\")\n",
        "\n",
        "elif numero == 3:\n",
        "    print(f\"{numero} Quarta\")\n",
        "\n",
        "elif numero == 4:\n",
        "    print(f\"{numero} Quinta\")\n",
        "\n",
        "elif numero == 5:\n",
        "    print(f\"{numero} Sexta\")\n",
        "\n",
        "elif numero == 6:\n",
        "    print(f\"{numero} Sabado\")\n",
        "\n",
        "elif numero == 7:\n",
        "    print(f\"{numero} Domigo\")\n",
        "\n",
        "else:\n",
        "    print(\"none\")"
      ]
    },
    {
      "cell_type": "markdown",
      "metadata": {
        "id": "FdP99lWRM9b3"
      },
      "source": [
        "2. Escreva um programa que aceite uma temperatura em Fahrenheit da água, converta essa temperatura para celsius e diga o estado físico."
      ]
    },
    {
      "cell_type": "code",
      "execution_count": 30,
      "metadata": {
        "id": "j0wtgOajNSdm"
      },
      "outputs": [
        {
          "name": "stdout",
          "output_type": "stream",
          "text": [
            "121.1 Celcius e a agua esta gasosa\n"
          ]
        }
      ],
      "source": [
        "f = 250\n",
        "\n",
        "resultado = (f - 32) * 5/9\n",
        "\n",
        "if resultado <= 0:\n",
        "\n",
        "    print(f\"{resultado :.1f} Celcius e a agua esta congelada\")\n",
        "\n",
        "elif resultado >=1 and resultado <=100:\n",
        "    print(f\"{resultado:.1f} Celcius e a agua esta liquida\")\n",
        "\n",
        "else:\n",
        "    print(f\"{resultado :.1f} Celcius e a agua esta gasosa\")"
      ]
    },
    {
      "cell_type": "markdown",
      "metadata": {
        "id": "j-q3piS6NS7x"
      },
      "source": [
        "3.  Uma loja oferece um desconto de 10% se o custo da quantidade comprada for superior a 1000. Peça ao usuário pela quantidade que deseja comprar. Suponha que uma unidade custe 100. Avalie e imprima o custo total para o usuário."
      ]
    },
    {
      "cell_type": "code",
      "execution_count": null,
      "metadata": {
        "id": "a9yqC0DgNjkr"
      },
      "outputs": [],
      "source": []
    },
    {
      "cell_type": "markdown",
      "metadata": {
        "id": "4PFq-DoVPeVB"
      },
      "source": [
        "4.  Escreva um programa que leia três números inteiros e os imprima em ordem crescente."
      ]
    },
    {
      "cell_type": "code",
      "execution_count": null,
      "metadata": {
        "id": "2Lto4X7iPfoJ"
      },
      "outputs": [],
      "source": []
    },
    {
      "cell_type": "markdown",
      "metadata": {
        "id": "hUEKrqnpZGsH"
      },
      "source": [
        "5.  Dadas as medidas de três lados de um triângulo (a, b, c), onde cada lado é um número inteiro positivo, seu programa deve determinar e imprimir se o triângulo é equilátero, isósceles ou escaleno, com base na igualdade dos lados.\n",
        "\n",
        "Um triângulo é:\n",
        "\n",
        "* Equilátero se todos os lados são iguais.\n",
        "* Isósceles se exatamente dois lados são iguais.\n",
        "* Escaleno se todos os lados são diferentes."
      ]
    },
    {
      "cell_type": "code",
      "execution_count": null,
      "metadata": {
        "id": "ojnT4wLlZK2V"
      },
      "outputs": [],
      "source": []
    },
    {
      "cell_type": "markdown",
      "metadata": {
        "id": "1U7KgS0gZLEB"
      },
      "source": [
        "6.  Escreva um programa que leia três números naturais e verifica se eles formam os lados de um triângulo retângulo."
      ]
    },
    {
      "cell_type": "code",
      "execution_count": null,
      "metadata": {
        "id": "YdilMnigZNAw"
      },
      "outputs": [],
      "source": []
    },
    {
      "cell_type": "markdown",
      "metadata": {
        "id": "Zqt2c5DnNwzV"
      },
      "source": [
        "## Avançados"
      ]
    },
    {
      "cell_type": "markdown",
      "metadata": {
        "id": "qU5MjWhfN2dc"
      },
      "source": [
        "Estes exercícios envolvem outros comandos de python, como loops."
      ]
    },
    {
      "cell_type": "markdown",
      "metadata": {
        "id": "Ph1wGw6KNySy"
      },
      "source": [
        "1.  Escreva um programa que checa se um número é primo ou não."
      ]
    },
    {
      "cell_type": "code",
      "execution_count": 9,
      "metadata": {
        "id": "_WXxhIfANxyx"
      },
      "outputs": [
        {
          "name": "stdout",
          "output_type": "stream",
          "text": [
            "2 ele é primo\n"
          ]
        }
      ],
      "source": [
        "number = 2\n",
        "\n",
        "if number > 1:\n",
        "\n",
        "    for i in range(2,int(number/2)+1):\n",
        "        \n",
        "        if(number % i) == 0:\n",
        "            print(number,\"ele não é primo\")\n",
        "            break\n",
        "    else:\n",
        "        print(number,\"ele é primo\")\n",
        "else:\n",
        "    print(number,\"ele não é primo\") \n",
        "    "
      ]
    },
    {
      "cell_type": "markdown",
      "metadata": {
        "id": "elOqXHOIOawB"
      },
      "source": [
        "2.  Dados um número inteiro n, n > 0, e uma sequência com n números inteiros, determinar quantos números da sequência são pares e quantos são ímpares. Por exemplo, para a sequência  [6   -2   7   0  -5   8  4]  o seu programa deve escrever o número 4 para o número de pares e 2 para o de ímpares."
      ]
    },
    {
      "cell_type": "code",
      "execution_count": 31,
      "metadata": {
        "id": "aGXYsxGAObuS"
      },
      "outputs": [
        {
          "name": "stdout",
          "output_type": "stream",
          "text": [
            "1 é impar\n",
            "2 é par\n",
            "3 é impar\n"
          ]
        }
      ],
      "source": [
        "a=1\n",
        "b= 2\n",
        "c= 3\n",
        "numeros = [a,b,c]\n",
        "\n",
        "for i in numeros:\n",
        "    if numeros[i - 1] % 2 == 0:\n",
        "        print (f\"{numeros[i - 1]} é par\")\n",
        "    else:\n",
        "        print (f\"{numeros[i - 1]} é impar\")"
      ]
    },
    {
      "cell_type": "markdown",
      "metadata": {
        "id": "rvYQjOSdOPgs"
      },
      "source": [
        "3.  Dizemos que um número inteiro positivo é triangular se ele é o produto de três numeros inteiros consecutivos. Por exemplo, 120 é triangular, pois (4 x 5 x 6) = 120. Dado um número inteiro positivo n, verificar se n é triangular."
      ]
    },
    {
      "cell_type": "code",
      "execution_count": 50,
      "metadata": {
        "id": "SYEqLZACOWlb"
      },
      "outputs": [
        {
          "name": "stdout",
          "output_type": "stream",
          "text": [
            "positivo\n"
          ]
        }
      ],
      "source": [
        "num = 120\n",
        "\n",
        "for i in range(num):\n",
        "    if (i - 1) * i * (i + 1) == num:\n",
        "        print(\"positivo\")\n",
        "    else:\n",
        "        pass"
      ]
    }
  ],
  "metadata": {
    "colab": {
      "provenance": []
    },
    "kernelspec": {
      "display_name": "Python 3",
      "name": "python3"
    },
    "language_info": {
      "codemirror_mode": {
        "name": "ipython",
        "version": 3
      },
      "file_extension": ".py",
      "mimetype": "text/x-python",
      "name": "python",
      "nbconvert_exporter": "python",
      "pygments_lexer": "ipython3",
      "version": "3.11.8"
    }
  },
  "nbformat": 4,
  "nbformat_minor": 0
}
